{
  "nbformat": 4,
  "nbformat_minor": 0,
  "metadata": {
    "colab": {
      "provenance": [],
      "authorship_tag": "ABX9TyNeKoH9ZfE4jlZt+opDKxcr",
      "include_colab_link": true
    },
    "kernelspec": {
      "name": "python3",
      "display_name": "Python 3"
    },
    "language_info": {
      "name": "python"
    }
  },
  "cells": [
    {
      "cell_type": "markdown",
      "metadata": {
        "id": "view-in-github",
        "colab_type": "text"
      },
      "source": [
        "<a href=\"https://colab.research.google.com/github/venidaydream/Metodos_cuantitativos/blob/main/class1.ipynb\" target=\"_parent\"><img src=\"https://colab.research.google.com/assets/colab-badge.svg\" alt=\"Open In Colab\"/></a>"
      ]
    },
    {
      "cell_type": "code",
      "execution_count": 8,
      "metadata": {
        "colab": {
          "base_uri": "https://localhost:8080/"
        },
        "id": "055O1h-LMZzS",
        "outputId": "a9ceec4b-1802-4598-e0ea-fe079d146a22"
      },
      "outputs": [
        {
          "output_type": "stream",
          "name": "stdout",
          "text": [
            "this is the beginning of the end\n"
          ]
        }
      ],
      "source": [
        "print('this is the beginning of the end')"
      ]
    },
    {
      "cell_type": "code",
      "source": [
        "##<span style=\"color:red\">red</span>\n",
        "\"Text\""
      ],
      "metadata": {
        "colab": {
          "base_uri": "https://localhost:8080/",
          "height": 35
        },
        "id": "TsLMaRf5p716",
        "outputId": "9d748e5c-eb7e-42a1-9843-e868f814d0ab"
      },
      "execution_count": 9,
      "outputs": [
        {
          "output_type": "execute_result",
          "data": {
            "text/plain": [
              "'Text'"
            ],
            "application/vnd.google.colaboratory.intrinsic+json": {
              "type": "string"
            }
          },
          "metadata": {},
          "execution_count": 9
        }
      ]
    },
    {
      "cell_type": "code",
      "source": [
        "x=2\n",
        "type(x)\n"
      ],
      "metadata": {
        "colab": {
          "base_uri": "https://localhost:8080/"
        },
        "id": "-ivllqyhpFRD",
        "outputId": "30061d63-29f9-4a81-ec1e-1c8cd93562bc"
      },
      "execution_count": 4,
      "outputs": [
        {
          "output_type": "execute_result",
          "data": {
            "text/plain": [
              "int"
            ]
          },
          "metadata": {},
          "execution_count": 4
        }
      ]
    },
    {
      "cell_type": "code",
      "source": [
        "y=3.2\n",
        "type(y)"
      ],
      "metadata": {
        "colab": {
          "base_uri": "https://localhost:8080/"
        },
        "id": "hB5-FnjVpigF",
        "outputId": "e67b5d20-e1f9-4733-b72d-ceb42b8fafbb"
      },
      "execution_count": 5,
      "outputs": [
        {
          "output_type": "execute_result",
          "data": {
            "text/plain": [
              "float"
            ]
          },
          "metadata": {},
          "execution_count": 5
        }
      ]
    },
    {
      "cell_type": "code",
      "source": [
        "val_1 = input(\"Enter the first value: \")\n",
        "val_2 = input(\"Enter the second value: \")\n",
        "\n",
        "try:\n",
        "    new_val = int(val_1) + int(val_2)\n",
        "    print(\"\\nThe sum is: \", new_val)\n",
        "except ValueError:\n",
        "    print(\"\\nWhoops! One of those wasn't a whole number\")"
      ],
      "metadata": {
        "colab": {
          "base_uri": "https://localhost:8080/"
        },
        "id": "hmGGAc4X0Xns",
        "outputId": "58b0328c-dfb4-4afa-cfc0-ec4ab295afaf"
      },
      "execution_count": 10,
      "outputs": [
        {
          "output_type": "stream",
          "name": "stdout",
          "text": [
            "Enter the first value: 3\n",
            "Enter the second value: 4\n",
            "\n",
            "The sum is:  7\n"
          ]
        }
      ]
    },
    {
      "cell_type": "code",
      "source": [],
      "metadata": {
        "id": "k1NkCjpa0YT0"
      },
      "execution_count": null,
      "outputs": []
    }
  ]
}