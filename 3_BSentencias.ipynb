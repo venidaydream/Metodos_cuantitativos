{
  "cells": [
    {
      "cell_type": "markdown",
      "metadata": {
        "id": "view-in-github",
        "colab_type": "text"
      },
      "source": [
        "<a href=\"https://colab.research.google.com/github/venidaydream/Metodos_cuantitativos/blob/main/3_BSentencias.ipynb\" target=\"_parent\"><img src=\"https://colab.research.google.com/assets/colab-badge.svg\" alt=\"Open In Colab\"/></a>"
      ]
    },
    {
      "cell_type": "markdown",
      "id": "b9e40b9f-f9dc-411a-99e6-4f641f476a50",
      "metadata": {
        "id": "b9e40b9f-f9dc-411a-99e6-4f641f476a50"
      },
      "source": [
        "#### Ejercicio 1\n",
        "\n",
        "El usuario da un número y el programa  dice si es par\n"
      ]
    },
    {
      "cell_type": "code",
      "execution_count": null,
      "id": "0e0c064c-7c99-4d63-a816-38ff4e48c8b2",
      "metadata": {
        "tags": [],
        "colab": {
          "base_uri": "https://localhost:8080/"
        },
        "id": "0e0c064c-7c99-4d63-a816-38ff4e48c8b2",
        "outputId": "de25ac9b-c529-4b02-e00e-13c4db4e275a"
      },
      "outputs": [
        {
          "output_type": "stream",
          "name": "stdout",
          "text": [
            "text me6\n",
            "the number is even\n"
          ]
        }
      ],
      "source": [
        "a=float(input('text me'))\n",
        "\n",
        "if a%2==0:\n",
        "  print('the number is even')"
      ]
    },
    {
      "cell_type": "markdown",
      "id": "d28185f6-2770-41e5-a288-0d9a72069c81",
      "metadata": {
        "tags": [],
        "id": "d28185f6-2770-41e5-a288-0d9a72069c81"
      },
      "source": [
        "#### Ejercicio 2"
      ]
    },
    {
      "cell_type": "markdown",
      "id": "9ad5f210-22fb-4f59-a21a-17848504f14d",
      "metadata": {
        "id": "9ad5f210-22fb-4f59-a21a-17848504f14d"
      },
      "source": [
        "Crear la función par, que identifica el si el numero es par o no"
      ]
    },
    {
      "cell_type": "code",
      "execution_count": null,
      "id": "d670e762-ffa8-439b-94cd-22681fe643ca",
      "metadata": {
        "tags": [],
        "colab": {
          "base_uri": "https://localhost:8080/"
        },
        "id": "d670e762-ffa8-439b-94cd-22681fe643ca",
        "outputId": "8ab68142-adcb-4d81-b652-ca55f70ab265"
      },
      "outputs": [
        {
          "name": "stdout",
          "output_type": "stream",
          "text": [
            "text me 4\n"
          ]
        }
      ],
      "source": [
        "a=float(input('text me '))\n",
        "def is_even(a):\n",
        "\n",
        "  if a%2==0:\n",
        "    print('the number is even')\n",
        "  else:\n",
        "    print('the number is uneven')"
      ]
    },
    {
      "cell_type": "markdown",
      "id": "46359a87-230a-4359-811f-ef6aa8d0abc8",
      "metadata": {
        "tags": [],
        "id": "46359a87-230a-4359-811f-ef6aa8d0abc8"
      },
      "source": [
        "Aplique la función"
      ]
    },
    {
      "cell_type": "code",
      "execution_count": null,
      "id": "fda79c5e-7982-415b-8ac3-66b35b1a9ea3",
      "metadata": {
        "id": "fda79c5e-7982-415b-8ac3-66b35b1a9ea3"
      },
      "outputs": [],
      "source": []
    }
  ],
  "metadata": {
    "kernelspec": {
      "display_name": "Python 3 (ipykernel)",
      "language": "python",
      "name": "python3"
    },
    "language_info": {
      "codemirror_mode": {
        "name": "ipython",
        "version": 3
      },
      "file_extension": ".py",
      "mimetype": "text/x-python",
      "name": "python",
      "nbconvert_exporter": "python",
      "pygments_lexer": "ipython3",
      "version": "3.11.4"
    },
    "colab": {
      "provenance": [],
      "include_colab_link": true
    }
  },
  "nbformat": 4,
  "nbformat_minor": 5
}
