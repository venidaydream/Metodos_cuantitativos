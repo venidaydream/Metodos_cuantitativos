{
  "cells": [
    {
      "cell_type": "markdown",
      "metadata": {
        "id": "view-in-github",
        "colab_type": "text"
      },
      "source": [
        "<a href=\"https://colab.research.google.com/github/venidaydream/Metodos_cuantitativos/blob/main/practica_1.ipynb\" target=\"_parent\"><img src=\"https://colab.research.google.com/assets/colab-badge.svg\" alt=\"Open In Colab\"/></a>"
      ]
    },
    {
      "cell_type": "markdown",
      "id": "ca1ab6a9-8117-446f-a1b5-eea5690c05a3",
      "metadata": {
        "tags": [],
        "id": "ca1ab6a9-8117-446f-a1b5-eea5690c05a3"
      },
      "source": [
        "## Ejercicios de práctica"
      ]
    },
    {
      "cell_type": "markdown",
      "id": "317017d1-d4b1-4a32-9eef-e1fd52880318",
      "metadata": {
        "tags": [],
        "id": "317017d1-d4b1-4a32-9eef-e1fd52880318"
      },
      "source": [
        "### Ejercicio 1\n",
        "\n",
        "Construya un  programa que solicite al usuario ingresar:\n",
        "el monto de inversión inicial,\n",
        "la tasa de interés anual (en porcentaje) y el número de años de inversión. Luego, calcula el interés simple utilizando la fórmula:\n",
        "\n",
        "Interès Simple=Capital Inicial×Tasa de Interès (decimal)×Tiempo de Inversión"
      ]
    },
    {
      "cell_type": "code",
      "execution_count": null,
      "id": "58ea7205-5f8b-4a8d-b1c6-0b0f14fe2c88",
      "metadata": {
        "tags": [],
        "colab": {
          "base_uri": "https://localhost:8080/"
        },
        "id": "58ea7205-5f8b-4a8d-b1c6-0b0f14fe2c88",
        "outputId": "d782a453-2183-421a-b1b6-808625f663c7"
      },
      "outputs": [
        {
          "output_type": "stream",
          "name": "stdout",
          "text": [
            "Ingrese el monto de inversión inicial: 80000\n",
            "Ingrese la tasa de interés anual (%): 3\n",
            "Ingrese el número de años de inversión: 10\n",
            "El interés simple generado es: 24000.0 euros.\n"
          ]
        }
      ],
      "source": [
        "# Solicitar al usuario ingresar el monto de inversión inicial\n",
        "monto_inicial = float(input(\"Ingrese el monto de inversión inicial: \"))\n",
        "\n",
        "# Solicitar al usuario ingresar la tasa de interés anual en porcentaje\n",
        "tasa_interes_porcentaje = float(input(\"Ingrese la tasa de interés anual (%): \"))\n",
        "\n",
        "# Solicitar al usuario ingresar el número de años de inversión\n",
        "num_anios = int(input(\"Ingrese el número de años de inversión: \"))\n",
        "\n",
        "# Calcular la tasa de interés en decimal\n",
        "tasa_interes_decimal = tasa_interes_porcentaje / 100\n",
        "\n",
        "# Calcular el interés simple\n",
        "interes_simple = monto_inicial * tasa_interes_decimal * num_anios\n",
        "\n",
        "# Mostrar el resultado\n",
        "print(f\"El interés simple generado es: {interes_simple} euros.\")\n"
      ]
    },
    {
      "cell_type": "markdown",
      "id": "d436c91f-9ec9-47b7-b006-aa4ef097213b",
      "metadata": {
        "id": "d436c91f-9ec9-47b7-b006-aa4ef097213b"
      },
      "source": [
        "### Ejercicio 2\n",
        "\n",
        "Escribe un programa que calcule los intereses ganados en una inversión a una tasa de interés fija anual. El programa debe solicitar al usuario ingresar el monto de la inversión y la tasa de interés anual. Luego, debe calcular e imprimir los intereses ganados en un año."
      ]
    },
    {
      "cell_type": "code",
      "execution_count": null,
      "id": "72475eb7-29dd-4551-b8d8-ed6696d662c7",
      "metadata": {
        "tags": [],
        "colab": {
          "base_uri": "https://localhost:8080/"
        },
        "id": "72475eb7-29dd-4551-b8d8-ed6696d662c7",
        "outputId": "31aa7c3d-261b-47a3-8a52-a005b7da1595"
      },
      "outputs": [
        {
          "output_type": "stream",
          "name": "stdout",
          "text": [
            "Ingrese el monto de la inversión: 80000\n",
            "Ingrese la tasa de interés anual (%): 4\n",
            "Los intereses ganados en un año son: 3200.0 euros.\n"
          ]
        }
      ],
      "source": [
        "# Solicitar al usuario ingresar el monto de la inversión\n",
        "monto_inversion = float(input(\"Ingrese el monto de la inversión: \"))\n",
        "\n",
        "# Solicitar al usuario ingresar la tasa de interés anual en porcentaje\n",
        "tasa_interes_anual = float(input(\"Ingrese la tasa de interés anual (%): \"))\n",
        "\n",
        "# Calcular los intereses ganados en un año\n",
        "intereses_ganados_anual = (monto_inversion * tasa_interes_anual) / 100\n",
        "\n",
        "# Imprimir los intereses ganados en un año\n",
        "print(f\"Los intereses ganados en un año son: {intereses_ganados_anual} euros.\")\n"
      ]
    },
    {
      "cell_type": "markdown",
      "id": "19337df5-9809-4726-86ba-e40d5040053e",
      "metadata": {
        "id": "19337df5-9809-4726-86ba-e40d5040053e"
      },
      "source": [
        "### Ejercicio 3\n",
        "\n",
        "Continue construyendo una calculadora que haga las 5 operaciones básicas"
      ]
    },
    {
      "cell_type": "code",
      "execution_count": null,
      "id": "bdb49bef-7d3f-4bf4-85ff-9e02b8f56a6d",
      "metadata": {
        "tags": [],
        "colab": {
          "base_uri": "https://localhost:8080/"
        },
        "id": "bdb49bef-7d3f-4bf4-85ff-9e02b8f56a6d",
        "outputId": "9e9e4916-5b6a-44d4-e645-13e8363ebf5a"
      },
      "outputs": [
        {
          "name": "stdout",
          "output_type": "stream",
          "text": [
            "************\n",
            "Calculadora\n",
            "*********************\n",
            "Menu\n",
            "1. Suma\n",
            "2. Resta\n",
            "3. Multiplicacion\n",
            "4. Division\n",
            "5. Salir\n",
            "\n",
            "opcion:3\n",
            "multiplicar1:2\n",
            "multiplicar2:3\n",
            "La suma es: 6\n",
            "opcion:2\n",
            "restar1:4\n",
            "restar2:3\n",
            "La suma es: 1\n",
            "opcion:4\n",
            "sumando1:6\n",
            "sumando2:3\n",
            "La suma es: 2.0\n",
            "opcion:5\n"
          ]
        }
      ],
      "source": [
        "fin=False\n",
        "print(\"\"\"************\n",
        "Calculadora\n",
        "*********************\n",
        "Menu\n",
        "1. Suma\n",
        "2. Resta\n",
        "3. Multiplicacion\n",
        "4. Division\n",
        "5. Salir\n",
        "\"\"\"\n",
        ")\n",
        "while not(fin):\n",
        "    opc=int(input(\"opcion:\"))\n",
        "    if (opc==1):\n",
        "        sum1=int(input(\"sumando1:\"))\n",
        "        sum2=int(input(\"sumando2:\"))\n",
        "        print(\"La suma es:\", sum1+sum2)\n",
        "    elif (opc==2):\n",
        "        sum1=int(input(\"restar1:\"))\n",
        "        sum2=int(input(\"restar2:\"))\n",
        "        print(\"La suma es:\", sum1-sum2)\n",
        "    elif (opc==3):\n",
        "        sum1=int(input(\"multiplicar1:\"))\n",
        "        sum2=int(input(\"multiplicar2:\"))\n",
        "        print(\"La suma es:\", sum1*sum2)\n",
        "    elif (opc==4):\n",
        "        sum1=int(input(\"sumando1:\"))\n",
        "        sum2=int(input(\"sumando2:\"))\n",
        "        print(\"La suma es:\", sum1/sum2)\n",
        "    elif (opc==5):\n",
        "        fin=True"
      ]
    },
    {
      "cell_type": "code",
      "execution_count": null,
      "id": "398c793a-0053-4c55-8cf8-dac5eaba96a5",
      "metadata": {
        "tags": [],
        "id": "398c793a-0053-4c55-8cf8-dac5eaba96a5",
        "outputId": "9849d307-8b8a-4260-c445-f41816032672"
      },
      "outputs": [
        {
          "name": "stdout",
          "output_type": "stream",
          "text": [
            "************\n",
            "Calculadora\n",
            "*********************\n",
            "Menu\n",
            "1. Suma\n",
            "2.Resta\n",
            "3.Multiplicación\n",
            "4.División\n",
            "5.Salir\n",
            "\n"
          ]
        },
        {
          "name": "stdin",
          "output_type": "stream",
          "text": [
            "opcion: 5\n"
          ]
        }
      ],
      "source": []
    }
  ],
  "metadata": {
    "kernelspec": {
      "display_name": "Python 3 (ipykernel)",
      "language": "python",
      "name": "python3"
    },
    "language_info": {
      "codemirror_mode": {
        "name": "ipython",
        "version": 3
      },
      "file_extension": ".py",
      "mimetype": "text/x-python",
      "name": "python",
      "nbconvert_exporter": "python",
      "pygments_lexer": "ipython3",
      "version": "3.11.4"
    },
    "colab": {
      "provenance": [],
      "toc_visible": true,
      "include_colab_link": true
    }
  },
  "nbformat": 4,
  "nbformat_minor": 5
}