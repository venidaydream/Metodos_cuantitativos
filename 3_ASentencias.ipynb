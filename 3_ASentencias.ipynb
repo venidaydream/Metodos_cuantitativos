{
  "cells": [
    {
      "cell_type": "markdown",
      "metadata": {
        "id": "view-in-github",
        "colab_type": "text"
      },
      "source": [
        "<a href=\"https://colab.research.google.com/github/venidaydream/Metodos_cuantitativos/blob/main/3_ASentencias.ipynb\" target=\"_parent\"><img src=\"https://colab.research.google.com/assets/colab-badge.svg\" alt=\"Open In Colab\"/></a>"
      ]
    },
    {
      "cell_type": "markdown",
      "id": "afa49ed5-551c-473e-9a3e-403423d0a637",
      "metadata": {
        "tags": [],
        "id": "afa49ed5-551c-473e-9a3e-403423d0a637"
      },
      "source": [
        "![image.png](attachment:03ab5ec6-2ac7-4034-8c58-10bd6405ecb9.png)"
      ]
    },
    {
      "cell_type": "markdown",
      "id": "0148b317-42d8-47ca-b8ed-b9fdbb3aa9fb",
      "metadata": {
        "id": "0148b317-42d8-47ca-b8ed-b9fdbb3aa9fb"
      },
      "source": [
        "Luz Mary Pinzón S. luzmary.pinzon@upf.edu"
      ]
    },
    {
      "cell_type": "markdown",
      "id": "a35a5d19-af82-4365-ac46-caf2ee4f1b11",
      "metadata": {
        "tags": [],
        "id": "a35a5d19-af82-4365-ac46-caf2ee4f1b11"
      },
      "source": [
        "### 3. Condicionales: flujo de un programa\n",
        "\n",
        "#### Bloque:\n",
        "es un grupo se sentencias de codigo fuente que contiene una o más sentencias. Los bloques están delimitados porsu inicio y su fin.\n"
      ]
    },
    {
      "cell_type": "markdown",
      "id": "4e2ad3ac-8d15-4091-8697-62a86a0a6c91",
      "metadata": {
        "tags": [],
        "id": "4e2ad3ac-8d15-4091-8697-62a86a0a6c91"
      },
      "source": [
        "### sentencias IF/ ELIF/ ELSE\n",
        "\n",
        "Estas sentencias permiten usar bifurcaciones y cada bifurcación se convertira en un bloque."
      ]
    },
    {
      "cell_type": "markdown",
      "id": "a971b7a6-29ca-46fc-81d6-ae588d28e808",
      "metadata": {
        "id": "a971b7a6-29ca-46fc-81d6-ae588d28e808"
      },
      "source": [
        "Pedir dos numero al usuario e imprimir la relación entre ellos\n",
        "\n",
        "![image.png](attachment:62cde13f-624d-4e07-b748-4507e0e717ea.png)\n"
      ]
    },
    {
      "cell_type": "markdown",
      "id": "bf1bfbc2-858f-4e2f-9c9c-4046b085c529",
      "metadata": {
        "id": "bf1bfbc2-858f-4e2f-9c9c-4046b085c529"
      },
      "source": [
        "### Ejemplo 1\n",
        "\n",
        "valuar un numero escrito por el usuario. Si el numero es mayor que 10 se mostrar un mensaje en la pantalla indicándo que el 'número que escribió es mayor a 10'"
      ]
    },
    {
      "cell_type": "code",
      "execution_count": null,
      "id": "d7ec979a-2e85-4608-88b9-91706f6f590e",
      "metadata": {
        "tags": [],
        "colab": {
          "base_uri": "https://localhost:8080/"
        },
        "id": "d7ec979a-2e85-4608-88b9-91706f6f590e",
        "outputId": "7168ece6-c699-4542-a9b0-d990e63b4007"
      },
      "outputs": [
        {
          "output_type": "stream",
          "name": "stdout",
          "text": [
            "fuck me 4\n",
            "smaller than 10\n"
          ]
        }
      ],
      "source": [
        "a= int(input('fuck me '))\n",
        "\n",
        "if a>10:\n",
        "  print('bigger than 10')\n",
        "else:\n",
        "  print('smaller than 10')"
      ]
    },
    {
      "cell_type": "markdown",
      "id": "ce63f7d2-4374-4b26-b824-6b603e886adf",
      "metadata": {
        "tags": [],
        "id": "ce63f7d2-4374-4b26-b824-6b603e886adf"
      },
      "source": [
        "#### Ejercicio 1.\n",
        "Asignele el crédito al cliente si su ingreso bruto es 1.5 el salario mínimo.\n",
        "\n",
        "el salario neto es aquel que finalmente percibimos en nuestra cuenta corriente en cada periodo de pago, normalmente cada mes. Mientras tanto el salario bruto representa un importe mayor ya que sobre este valor se descuentan las retenciones/cotizaciones.\n",
        "\n",
        "Salario mínimo España 2021: 965 euros."
      ]
    },
    {
      "cell_type": "code",
      "execution_count": null,
      "id": "5aa01b74-5d24-453d-b0be-afe7162e9bba",
      "metadata": {
        "tags": [],
        "colab": {
          "base_uri": "https://localhost:8080/"
        },
        "id": "5aa01b74-5d24-453d-b0be-afe7162e9bba",
        "outputId": "b6a8cb81-7c8e-43cd-f558-9ddfa893cf9f"
      },
      "outputs": [
        {
          "output_type": "stream",
          "name": "stdout",
          "text": [
            "fuck me 6374839\n",
            "bigger than 10\n"
          ]
        }
      ],
      "source": [
        "min=965\n",
        "b= int(input('fuck me '))\n",
        "if b>=1.5*min:\n",
        "  print('bigger than 10')\n",
        "else:\n",
        "  print('smaller than 10')"
      ]
    },
    {
      "cell_type": "markdown",
      "id": "a0067cc1-b9b6-408e-b09b-bd76b0db6f86",
      "metadata": {
        "id": "a0067cc1-b9b6-408e-b09b-bd76b0db6f86"
      },
      "source": [
        "### Sentencia IF/ELSE\n",
        "Mediante esta sentencia se crean dos bloques de codigo, uno que se ejecuta si se cumple `IF`el otro se ejecuta si se cumple `ELSE`"
      ]
    },
    {
      "cell_type": "markdown",
      "id": "7f3154b2-38b7-498d-93ce-2267bdda4b3a",
      "metadata": {
        "id": "7f3154b2-38b7-498d-93ce-2267bdda4b3a"
      },
      "source": [
        "### ejemplo 2:\n",
        "evaluar un numero escrito por el usuario. Si el numero es mayor que 10 se mostrar un mensaje en la pantalla indicando que es mayor que 10, de lo contrario, indica que es diferente de 10"
      ]
    },
    {
      "cell_type": "code",
      "execution_count": null,
      "id": "e2b9c976-b9a9-4140-87db-d11e134c9865",
      "metadata": {
        "tags": [],
        "colab": {
          "base_uri": "https://localhost:8080/"
        },
        "id": "e2b9c976-b9a9-4140-87db-d11e134c9865",
        "outputId": "040f4898-242d-4414-9db2-19c2cc4f4666"
      },
      "outputs": [
        {
          "output_type": "stream",
          "name": "stdout",
          "text": [
            "fuck me 78\n",
            "bigger than 10\n"
          ]
        }
      ],
      "source": [
        "c= int(input('fuck me '))\n",
        "\n",
        "if c>10:\n",
        "  print('bigger than 10')\n",
        "else:\n",
        "  print('smaller than 10')"
      ]
    },
    {
      "cell_type": "markdown",
      "id": "d60223bf-5601-4cec-b11c-a707dd73b7d8",
      "metadata": {
        "tags": [],
        "id": "d60223bf-5601-4cec-b11c-a707dd73b7d8"
      },
      "source": [
        "#### ejercicio 2:\n",
        "Evaluar si un cliente califica para un descuento en un producto financiero, como una tarjeta de crédito a parti de su edad e ingreso anual.\n",
        "Escriba felicitaciones si el cliente es mayor de 30 años y tiene ingresos mayores a 30.000 euros.\n",
        "De lo contrario escriba: Lo sentimos, no cumple con los requisitos para el descuento en la tarjeta de crédito"
      ]
    },
    {
      "cell_type": "code",
      "execution_count": null,
      "id": "9ed68659-2fdc-49df-bde2-47ad3e0fd732",
      "metadata": {
        "colab": {
          "base_uri": "https://localhost:8080/"
        },
        "id": "9ed68659-2fdc-49df-bde2-47ad3e0fd732",
        "outputId": "86c2e545-cb6b-40a7-dcda-7212540accb8"
      },
      "outputs": [
        {
          "output_type": "stream",
          "name": "stdout",
          "text": [
            "age: 45\n",
            "income: 45000\n",
            "yey\n"
          ]
        }
      ],
      "source": [
        "d= int(input('age: '))\n",
        "e= int(input('income: '))\n",
        "\n",
        "if d>=30 and e>=30000:\n",
        "  print('yey')\n",
        "else:\n",
        "  print('fuck off')"
      ]
    },
    {
      "cell_type": "markdown",
      "id": "74780ab6-4f32-483f-a7b2-e3b1bf8f05c4",
      "metadata": {
        "id": "74780ab6-4f32-483f-a7b2-e3b1bf8f05c4"
      },
      "source": [
        "### Sentencia IF/ ELIF/ ELSE\n",
        "Mediante esta sentencia se crean infinitos caminos alternativos dependiendo del cumplimiento de la condicion de entrada y el camino que tomará en caso que no se cumpla la condición"
      ]
    },
    {
      "cell_type": "markdown",
      "id": "88ae058c-3fbd-4b14-bb61-c6594c77ab30",
      "metadata": {
        "id": "88ae058c-3fbd-4b14-bb61-c6594c77ab30"
      },
      "source": [
        "### Ejemplo:\n",
        "evaluar un numero escrito por el usuario.\n",
        "\n",
        "Si el numero es Mayor 10 se mostrar un mensaje en la pantalla indicando que es mayor que 10,\n",
        "\n",
        "Si el número es Menor a 10 se imprimira el mensaje: \"Has dicho un numero MENOR a 10\"\n",
        "\n",
        "Si el número es IGUAL a 10 se imprimira el mensaje: \"Has escrito 10\""
      ]
    },
    {
      "cell_type": "code",
      "execution_count": null,
      "id": "5190a594-23e2-4b8e-8367-7bec1d2aa579",
      "metadata": {
        "colab": {
          "base_uri": "https://localhost:8080/"
        },
        "id": "5190a594-23e2-4b8e-8367-7bec1d2aa579",
        "outputId": "a5984333-6562-4929-f114-3619f01aa996"
      },
      "outputs": [
        {
          "output_type": "stream",
          "name": "stdout",
          "text": [
            "fuck me 19\n",
            "bigger than 10\n"
          ]
        }
      ],
      "source": [
        "f= int(input('fuck me '))\n",
        "\n",
        "if f>10:\n",
        "  print('bigger than 10')\n",
        "elif f<10:\n",
        "  print('smaller than 10')\n",
        "else:\n",
        "  print('its 10')"
      ]
    },
    {
      "cell_type": "markdown",
      "id": "76f1cace-7eff-4c58-a50a-df9a30205fa6",
      "metadata": {
        "id": "76f1cace-7eff-4c58-a50a-df9a30205fa6"
      },
      "source": [
        "## Sentencia de forma corta\n",
        "\n",
        "![image.png](attachment:30be81d3-83eb-4385-ba27-3efc41d0d814.png)"
      ]
    },
    {
      "cell_type": "markdown",
      "id": "df8a341a-89ca-4849-b04f-7b06ceb69e41",
      "metadata": {
        "id": "df8a341a-89ca-4849-b04f-7b06ceb69e41"
      },
      "source": [
        "#### Hacer el ejemplo anterior de forma corta"
      ]
    },
    {
      "cell_type": "code",
      "execution_count": null,
      "id": "ac617ebd-804c-4cf5-8222-2fd175870f57",
      "metadata": {
        "colab": {
          "base_uri": "https://localhost:8080/",
          "height": 159
        },
        "id": "ac617ebd-804c-4cf5-8222-2fd175870f57",
        "outputId": "eb8037a3-2511-4bba-b0bc-b0b6da571318"
      },
      "outputs": [
        {
          "output_type": "error",
          "ename": "SyntaxError",
          "evalue": "ignored",
          "traceback": [
            "\u001b[0;36m  File \u001b[0;32m\"<ipython-input-17-1c121128515d>\"\u001b[0;36m, line \u001b[0;32m1\u001b[0m\n\u001b[0;31m    print('bigger than 10') if(f>10) else print('its 10') if f=10 else print('smaller than 10')\u001b[0m\n\u001b[0m                                          ^\u001b[0m\n\u001b[0;31mSyntaxError\u001b[0m\u001b[0;31m:\u001b[0m expected 'else' after 'if' expression\n"
          ]
        }
      ],
      "source": []
    },
    {
      "cell_type": "markdown",
      "id": "7a370ed0-b9cd-451c-b55a-c6418efd7a83",
      "metadata": {
        "id": "7a370ed0-b9cd-451c-b55a-c6418efd7a83"
      },
      "source": []
    },
    {
      "cell_type": "markdown",
      "id": "d57983ea-e63c-40fb-8378-ef3a806b492c",
      "metadata": {
        "id": "d57983ea-e63c-40fb-8378-ef3a806b492c"
      },
      "source": [
        "## el poder de la indentación"
      ]
    },
    {
      "cell_type": "markdown",
      "id": "4b96cf56-4e5e-40c6-a512-36a2caca0765",
      "metadata": {
        "id": "4b96cf56-4e5e-40c6-a512-36a2caca0765"
      },
      "source": [
        "#### Ejemplo 1"
      ]
    },
    {
      "cell_type": "code",
      "execution_count": null,
      "id": "80c9f3ea-8bd6-415c-8cff-b27bd7310c03",
      "metadata": {
        "colab": {
          "base_uri": "https://localhost:8080/"
        },
        "id": "80c9f3ea-8bd6-415c-8cff-b27bd7310c03",
        "outputId": "fbcd7c51-54d5-415e-cee7-54191ab3801e"
      },
      "outputs": [
        {
          "output_type": "stream",
          "name": "stdout",
          "text": [
            "income: 45673\n",
            "score: 780\n",
            "no way\n"
          ]
        }
      ],
      "source": []
    },
    {
      "cell_type": "markdown",
      "id": "62819212-bac3-4e4a-ab4f-58d9a34f686b",
      "metadata": {
        "tags": [],
        "id": "62819212-bac3-4e4a-ab4f-58d9a34f686b"
      },
      "source": [
        "### Ejercicio 1"
      ]
    },
    {
      "cell_type": "markdown",
      "id": "23dcee85-8db2-4f44-81e6-db842d30a214",
      "metadata": {
        "jupyter": {
          "outputs_hidden": true
        },
        "tags": [],
        "id": "23dcee85-8db2-4f44-81e6-db842d30a214"
      },
      "source": [
        "Escribir un codigo Python para determinar la elegibilidad de un cliente para un préstamo bancario basado en sus ingresos y puntaje crediticio:\n",
        "\n",
        "Verifica si los ingresos anuales del cliente son mayores o iguales a $50,000. Si es así, pasa al segundo nivel  que verifica si el puntaje crediticio es mayor o igual a 700. Dependiendo de las combinaciones de ingresos y puntaje crediticio, el programa imprimirá un mensaje apropiado para indicar la elegibilidad del cliente para un préstamo con tasa preferencial, un préstamo estándar o ninguna elegibilidad en absoluto.\n",
        "\n",
        "tasa preferencial: si ingresos anuales >=50000 y puntje crediticio >=700\n",
        "préstamo estándar: si ingresos anuales >=50000 y puntje crediticio <700\n",
        "no cumple los requisitos: si ingresos anuales <50000 y puntje crediticio <700"
      ]
    },
    {
      "cell_type": "code",
      "execution_count": null,
      "id": "8edb1c9e-26f9-4b9d-9666-533141dfeaea",
      "metadata": {
        "tags": [],
        "colab": {
          "base_uri": "https://localhost:8080/"
        },
        "id": "8edb1c9e-26f9-4b9d-9666-533141dfeaea",
        "outputId": "0d80319e-6f2e-4d9f-f489-ed533889e527"
      },
      "outputs": [
        {
          "output_type": "stream",
          "name": "stdout",
          "text": [
            "income: 34\n",
            "score: 46\n",
            "no way\n"
          ]
        }
      ],
      "source": [
        "income= int(input('income: '))\n",
        "score= int(input('score: '))\n",
        "\n",
        "if income >= 50000:\n",
        "  if score >= 700:\n",
        "    print('standart')\n",
        "elif income >= 50000:\n",
        "  if score < 700:\n",
        "    print('not enough score')\n",
        "else:\n",
        "  print('no way')\n"
      ]
    },
    {
      "cell_type": "markdown",
      "id": "98b05c5d-dfe7-4a5f-8f20-904a3c0102ae",
      "metadata": {
        "id": "98b05c5d-dfe7-4a5f-8f20-904a3c0102ae"
      },
      "source": [
        "### Ejercicio 2\n",
        "\n",
        "Supongamos que estás desarrollando un programa que calcula el rendimiento de una inversión en función del tiempo y el tipo de inversión.\n",
        "\n",
        "Lrevise el siguiente código.\n",
        "entiende todo?"
      ]
    },
    {
      "cell_type": "code",
      "execution_count": null,
      "id": "84b7bd7c-8e3a-4765-9424-2398b52e54f9",
      "metadata": {
        "tags": [],
        "colab": {
          "base_uri": "https://localhost:8080/"
        },
        "id": "84b7bd7c-8e3a-4765-9424-2398b52e54f9",
        "outputId": "56560005-21e3-41d3-fe8b-6effba0db869"
      },
      "outputs": [
        {
          "output_type": "stream",
          "name": "stdout",
          "text": [
            "Ingrese el monto de su inversión: 50000\n",
            "Ingrese el tiempo en años de la inversión: 2\n",
            "Ingrese el tipo de inversión (acciones/bonos/cuenta de ahorros): acciones\n",
            "Después de 2 años, su inversión de 50000.0 en acciones habrá generado ganancias de $5125.00.\n"
          ]
        }
      ],
      "source": [
        "inversion = float(input(\"Ingrese el monto de su inversión: \"))\n",
        "tiempo = int(input(\"Ingrese el tiempo en años de la inversión: \"))\n",
        "tipo_inversion = input(\"Ingrese el tipo de inversión (acciones/bonos/cuenta de ahorros): \")\n",
        "\n",
        "tasa_interes = 0\n",
        "\n",
        "if tipo_inversion == \"acciones\":\n",
        "    if tiempo >= 5:\n",
        "        tasa_interes = 0.1  # Tasa de interés del 10% para inversiones a largo plazo en acciones\n",
        "    else:\n",
        "        tasa_interes = 0.05  # Tasa de interés del 5% para inversiones a corto plazo en acciones\n",
        "elif tipo_inversion == \"bonos\":\n",
        "    if tiempo >= 10:\n",
        "        tasa_interes = 0.08  # Tasa de interés del 8% para bonos a largo plazo\n",
        "    else:\n",
        "        tasa_interes = 0.03  # Tasa de interés del 3% para bonos a corto plazo\n",
        "elif tipo_inversion == \"cuenta de ahorros\":\n",
        "    tasa_interes = 0.04  # Tasa de interés del 4% para cuentas de ahorros\n",
        "\n",
        "ganancias = inversion * (1 + tasa_interes) ** tiempo - inversion\n",
        "\n",
        "print(f\"Después de {tiempo} años, su inversión de {inversion} en {tipo_inversion} habrá generado ganancias de ${ganancias:.2f}.\")"
      ]
    },
    {
      "cell_type": "markdown",
      "id": "fd473123-285a-410a-9499-9c680bf36d45",
      "metadata": {
        "id": "fd473123-285a-410a-9499-9c680bf36d45"
      },
      "source": [
        "# <span style=\"color:green\">Resumen</span>\n",
        "\n",
        "Sentencia\n",
        "\n",
        "- if\n",
        "- if /elif\n",
        "- If/elif /else\n"
      ]
    },
    {
      "cell_type": "code",
      "execution_count": null,
      "id": "94ba0c8b-2f5f-432f-9744-f76abd72a1e0",
      "metadata": {
        "id": "94ba0c8b-2f5f-432f-9744-f76abd72a1e0"
      },
      "outputs": [],
      "source": []
    },
    {
      "cell_type": "markdown",
      "id": "45c244bd-39ce-4e91-a7f9-33d43187b3ce",
      "metadata": {
        "tags": [],
        "id": "45c244bd-39ce-4e91-a7f9-33d43187b3ce"
      },
      "source": [
        "## <span style=\"color:red\">Quiz</span>\n",
        "\n",
        "programe un Simulador de hipoteca\n",
        "\n",
        "Usted quiere compar un piso de 120.000 euros y\n",
        "su salario mensual es de 1000.\n",
        "Todas las otras variables son fijas.\n",
        "\n",
        "El simulador  le pregunta: Cuál es la cuota inicial  y con este valor le dice el valor de la cuota mensual\n",
        "\n",
        "\n",
        "* Si la cuota inicial está entre a  (50.000  y 60.000]euros, la cuota mensual es de 300 euros\n",
        "* Si la cuota inicial está entre a  (40.000  y 50.000]euros, la cuota mensual es menor  a 400 euros\n",
        "* Si la cuota inicial es de 40.000 euros, la cuota mensual es igual a 400 euros\n",
        "* Si la cuota inicial está entre [30.000 y   40.000] euros, la cuota mensual es mayor  a 400 euros"
      ]
    },
    {
      "cell_type": "code",
      "source": [
        "# Definir el precio del piso y el salario mensual\n",
        "precio_piso = 120000\n",
        "salario_mensual = 1000\n",
        "\n",
        "# Pedir al usuario la cuota inicial\n",
        "cuota_inicial = float(input(\"Ingrese la cuota inicial en euros: \"))\n",
        "\n",
        "# Calcular la cuota mensual en base a la cuota inicial\n",
        "if 50000 < cuota_inicial <= 60000:\n",
        "    cuota_mensual = 300\n",
        "elif 40000 < cuota_inicial <= 50000:\n",
        "    cuota_mensual = 400\n",
        "elif cuota_inicial == 40000:\n",
        "    cuota_mensual = 400\n",
        "elif 30000 < cuota_inicial <= 40000:\n",
        "    cuota_mensual = 500\n",
        "else:\n",
        "    cuota_mensual = 0  # Cuota mensual no válida\n",
        "\n",
        "# Verificar si el salario es suficiente para la cuota mensual\n",
        "if cuota_mensual > salario_mensual:\n",
        "    print(\"Lo siento, su salario no es suficiente para cubrir la cuota mensual.\")\n",
        "else:\n",
        "    print(f\"Cuota mensual: {cuota_mensual} euros\")\n",
        "\n",
        "# Calcular el tiempo necesario para ahorrar la cuota inicial\n",
        "tiempo_ahorro = cuota_inicial / salario_mensual\n",
        "print(f\"Tiempo necesario para ahorrar la cuota inicial: {tiempo_ahorro:.2f} meses\")\n"
      ],
      "metadata": {
        "colab": {
          "base_uri": "https://localhost:8080/"
        },
        "id": "Bp02q5blBWNv",
        "outputId": "e5583676-7369-4efb-805e-6d1537a9e5b2"
      },
      "id": "Bp02q5blBWNv",
      "execution_count": null,
      "outputs": [
        {
          "output_type": "stream",
          "name": "stdout",
          "text": [
            "Ingrese la cuota inicial en euros: 10000\n",
            "Cuota mensual: 0 euros\n",
            "Tiempo necesario para ahorrar la cuota inicial: 10.00 meses\n"
          ]
        }
      ]
    },
    {
      "cell_type": "code",
      "source": [],
      "metadata": {
        "id": "UVDQUv2qBtEv"
      },
      "id": "UVDQUv2qBtEv",
      "execution_count": null,
      "outputs": []
    }
  ],
  "metadata": {
    "kernelspec": {
      "display_name": "Python 3 (ipykernel)",
      "language": "python",
      "name": "python3"
    },
    "language_info": {
      "codemirror_mode": {
        "name": "ipython",
        "version": 3
      },
      "file_extension": ".py",
      "mimetype": "text/x-python",
      "name": "python",
      "nbconvert_exporter": "python",
      "pygments_lexer": "ipython3",
      "version": "3.11.4"
    },
    "colab": {
      "provenance": [],
      "include_colab_link": true
    }
  },
  "nbformat": 4,
  "nbformat_minor": 5
}