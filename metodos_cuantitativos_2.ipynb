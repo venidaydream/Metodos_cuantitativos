{
  "nbformat": 4,
  "nbformat_minor": 0,
  "metadata": {
    "colab": {
      "provenance": [],
      "authorship_tag": "ABX9TyNdk7xwrCmn82A9IrLCUm7f",
      "include_colab_link": true
    },
    "kernelspec": {
      "name": "python3",
      "display_name": "Python 3"
    },
    "language_info": {
      "name": "python"
    }
  },
  "cells": [
    {
      "cell_type": "markdown",
      "metadata": {
        "id": "view-in-github",
        "colab_type": "text"
      },
      "source": [
        "<a href=\"https://colab.research.google.com/github/venidaydream/Metodos_cuantitativos/blob/main/metodos_cuantitativos_2.ipynb\" target=\"_parent\"><img src=\"https://colab.research.google.com/assets/colab-badge.svg\" alt=\"Open In Colab\"/></a>"
      ]
    },
    {
      "cell_type": "code",
      "execution_count": 1,
      "metadata": {
        "colab": {
          "base_uri": "https://localhost:8080/"
        },
        "id": "AuFnokLUGYj7",
        "outputId": "ebfc3894-8b19-42cb-95de-6c60db3327ab"
      },
      "outputs": [
        {
          "output_type": "stream",
          "name": "stdout",
          "text": [
            "cuál es el número?:4\n",
            "1\n",
            "2\n",
            "3\n",
            "4\n",
            "done\n"
          ]
        }
      ],
      "source": [
        "n = int(input('cuál es el número?:'))\n",
        "i=1\n",
        "while i <= n:\n",
        "    print(i)\n",
        "    i=i+1\n",
        "print('done')"
      ]
    },
    {
      "cell_type": "code",
      "source": [
        "inversion_inicial = float(input(\"initial investment: \"))\n",
        "tasa_interes_anual = float(input(\"annual interest rate: \"))\n",
        "\n",
        "saldo = inversion_inicial\n",
        "tiempo = 0\n",
        "\n",
        "while saldo <= inversion_inicial * 2:\n",
        "    saldo += saldo * tasa_interes_anual\n",
        " #   saldo=1+(saldo * tasa_interes_anual)\n",
        "    tiempo += 1\n",
        "\n",
        "print(f\"It'll take {tiempo} years to duplicate ${inversion_inicial:.2f} with interest rate {tasa_interes_anual*100}% yearly.\")\n"
      ],
      "metadata": {
        "colab": {
          "base_uri": "https://localhost:8080/"
        },
        "id": "MTE9zMN0MCw6",
        "outputId": "2b6a4d01-d6af-4e75-b09f-91a3751c7202"
      },
      "execution_count": 14,
      "outputs": [
        {
          "output_type": "stream",
          "name": "stdout",
          "text": [
            "initial investment: 10000\n",
            "annual interest rate: 0.01\n",
            "It'll take 70 years to duplicate $10000.00 with interest rate 1.0% yearly.\n"
          ]
        }
      ]
    },
    {
      "cell_type": "code",
      "source": [
        "stock_list=['AAPL', 'GOOGL', 'TSLA', 'MSFT', 'AMZN']\n",
        "len(stock_list)\n",
        "stock_list.append('AAPL')"
      ],
      "metadata": {
        "colab": {
          "base_uri": "https://localhost:8080/"
        },
        "id": "JZ9rp5UOTutm",
        "outputId": "224ebf96-a6df-4b81-a264-5ad8343c620c"
      },
      "execution_count": 17,
      "outputs": [
        {
          "output_type": "execute_result",
          "data": {
            "text/plain": [
              "5"
            ]
          },
          "metadata": {},
          "execution_count": 17
        }
      ]
    },
    {
      "cell_type": "code",
      "source": [
        "mytuple = (\"apple\", \"banana\", \"cherry\")\n",
        "mytuple"
      ],
      "metadata": {
        "id": "BiaK8fpgWLkd"
      },
      "execution_count": null,
      "outputs": []
    },
    {
      "cell_type": "code",
      "source": [
        "stock_info=('AAPL', 'apple inc', 150, 152, 149,25000)\n",
        "max_value = max(stock_info[2:5])\n",
        "print(max_value)"
      ],
      "metadata": {
        "colab": {
          "base_uri": "https://localhost:8080/"
        },
        "id": "p1_StbSlWLcu",
        "outputId": "5fa03fca-2a56-436a-f739-9a09d4588da3"
      },
      "execution_count": 30,
      "outputs": [
        {
          "output_type": "stream",
          "name": "stdout",
          "text": [
            "152\n"
          ]
        }
      ]
    },
    {
      "cell_type": "code",
      "source": [
        "stock_info = ('AAPL', 'apple inc', 150, 152, 149, 25000)\n",
        "\n",
        "for i in range(len(stock_info)):\n",
        "    if i == 1:\n",
        "        name = stock_info[i]\n",
        "    elif i == 3:\n",
        "        price = stock_info[i]\n",
        "    elif i == 5:\n",
        "        amount = stock_info[i]\n",
        "\n",
        "value = price * amount\n",
        "print(f\"{name} {value}\")\n"
      ],
      "metadata": {
        "colab": {
          "base_uri": "https://localhost:8080/"
        },
        "id": "zOK3fWMCbdfm",
        "outputId": "6842533e-4831-48fc-cb86-d50cc95dbd8e"
      },
      "execution_count": 38,
      "outputs": [
        {
          "output_type": "stream",
          "name": "stdout",
          "text": [
            "apple inc 3800000\n"
          ]
        }
      ]
    }
  ]
}